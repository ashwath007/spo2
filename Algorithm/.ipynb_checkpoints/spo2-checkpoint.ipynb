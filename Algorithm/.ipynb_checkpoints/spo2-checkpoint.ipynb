{
 "cells": [
  {
   "cell_type": "markdown",
   "metadata": {},
   "source": [
    "SP02 Project"
   ]
  },
  {
   "cell_type": "markdown",
   "metadata": {},
   "source": [
    "1. Reading image"
   ]
  },
  {
   "cell_type": "code",
   "execution_count": 264,
   "metadata": {},
   "outputs": [],
   "source": [
    "import cv2 as cv\n",
    "import numpy as np"
   ]
  },
  {
   "cell_type": "code",
   "execution_count": 265,
   "metadata": {},
   "outputs": [],
   "source": [
    "data_pic = cv.imread(\"./DATA/rah.jpg\")\n",
    "dis_pic(data_pic)"
   ]
  },
  {
   "cell_type": "code",
   "execution_count": 266,
   "metadata": {},
   "outputs": [],
   "source": [
    "# cv.imshow('image',data_pic)\n",
    "# cv.waitKey(0)\n",
    "# cv.destroyAllWindows()"
   ]
  },
  {
   "cell_type": "code",
   "execution_count": 267,
   "metadata": {},
   "outputs": [],
   "source": [
    "def dis_pic(pic_name):\n",
    "    cv.imshow('image',pic_name)\n",
    "    cv.waitKey(0)\n",
    "    cv.destroyAllWindows()\n",
    "    "
   ]
  },
  {
   "cell_type": "markdown",
   "metadata": {},
   "source": [
    "2. Reading dimentions"
   ]
  },
  {
   "cell_type": "code",
   "execution_count": 268,
   "metadata": {},
   "outputs": [],
   "source": [
    "data_pic_red = data_pic[:,:,1]\n",
    "# dis_pic(data_pic_red)\n",
    "filtered_pic = max_rgb_filter(data_pic)\n",
    "# cv.imshow(\"Images\", np.hstack([data_pic, f]))\n",
    "# cv.waitKey(0)"
   ]
  },
  {
   "cell_type": "code",
   "execution_count": 269,
   "metadata": {},
   "outputs": [],
   "source": [
    "def max_rgb_filter(image):\n",
    "    (B, G, R) = cv.split(image)\n",
    "    M = np.maximum(np.maximum(R, G), B)\n",
    "    R[R < M] = 0\n",
    "    G[G < M] = 0\n",
    "    B[B < M] = 0\n",
    "\n",
    "    return cv.merge([B, G, R])"
   ]
  },
  {
   "cell_type": "code",
   "execution_count": 270,
   "metadata": {},
   "outputs": [
    {
     "data": {
      "image/png": "[encoded data removed]",
      "text/plain": [
       "<Figure size 432x288 with 1 Axes>"
      ]
     },
     "metadata": {
      "needs_background": "light"
     },
     "output_type": "display_data"
    }
   ],
   "source": [
    "import matplotlib.pyplot as plt\n",
    "plt.hist(filtered_pic.ravel(),256,[0,256]); plt.show()"
   ]
  },
  {
   "cell_type": "code",
   "execution_count": 271,
   "metadata": {},
   "outputs": [
    {
     "name": "stdout",
     "output_type": "stream",
     "text": [
      "[array([[84, 81, 80, ..., 40, 38, 35],\n",
      "       [84, 81, 81, ..., 42, 44, 45],\n",
      "       [82, 82, 84, ..., 34, 31, 31],\n",
      "       ...,\n",
      "       [83, 83, 81, ..., 37, 39, 40],\n",
      "       [79, 83, 85, ..., 37, 39, 39],\n",
      "       [77, 83, 86, ..., 36, 38, 37]], dtype=uint8), array([[ 4,  1,  0, ...,  4,  5,  2],\n",
      "       [ 4,  1,  1, ...,  6, 11, 12],\n",
      "       [ 2,  2,  4, ...,  0,  0,  0],\n",
      "       ...,\n",
      "       [ 3,  3,  1, ...,  0,  1,  2],\n",
      "       [ 0,  3,  5, ...,  0,  1,  1],\n",
      "       [ 0,  3,  6, ...,  0,  0,  0]], dtype=uint8), array([[255, 254, 253, ..., 228, 226, 223],\n",
      "       [255, 254, 254, ..., 230, 232, 233],\n",
      "       [255, 255, 255, ..., 222, 219, 219],\n",
      "       ...,\n",
      "       [255, 255, 255, ..., 229, 231, 232],\n",
      "       [254, 255, 255, ..., 229, 231, 231],\n",
      "       [252, 255, 255, ..., 228, 230, 229]], dtype=uint8)]\n"
     ]
    }
   ],
   "source": [
    "bgr_planes = cv.split(data_pic)\n",
    "print(bgr_planes)"
   ]
  },
  {
   "cell_type": "code",
   "execution_count": 272,
   "metadata": {},
   "outputs": [
    {
     "data": {
      "text/plain": [
       "[3]"
      ]
     },
     "execution_count": 272,
     "metadata": {},
     "output_type": "execute_result"
    }
   ],
   "source": [
    "def dim(bgr_planes):\n",
    "    if not type(bgr_planes) == list:\n",
    "        return []\n",
    "    return [len(bgr_planes)] + dim(bgr_planes[0])\n",
    "dim(bgr_planes)"
   ]
  },
  {
   "cell_type": "code",
   "execution_count": 273,
   "metadata": {},
   "outputs": [
    {
     "data": {
      "text/plain": [
       "array([[84, 81, 80, ..., 40, 38, 35],\n",
       "       [84, 81, 81, ..., 42, 44, 45],\n",
       "       [82, 82, 84, ..., 34, 31, 31],\n",
       "       ...,\n",
       "       [83, 83, 81, ..., 37, 39, 40],\n",
       "       [79, 83, 85, ..., 37, 39, 39],\n",
       "       [77, 83, 86, ..., 36, 38, 37]], dtype=uint8)"
      ]
     },
     "execution_count": 273,
     "metadata": {},
     "output_type": "execute_result"
    }
   ],
   "source": [
    "bgr_planes[0]"
   ]
  },
  {
   "cell_type": "code",
   "execution_count": 274,
   "metadata": {},
   "outputs": [
    {
     "data": {
      "image/png": "[encoded data removed]",
      "text/plain": [
       "<Figure size 432x288 with 1 Axes>"
      ]
     },
     "metadata": {
      "needs_background": "light"
     },
     "output_type": "display_data"
    }
   ],
   "source": [
    "plt.title(\"RED Hist\")\n",
    "plt.hist(bgr_planes[2].ravel(),256,[0,256]) \n",
    "plt.show()\n"
   ]
  },
  {
   "cell_type": "code",
   "execution_count": 275,
   "metadata": {},
   "outputs": [
    {
     "data": {
      "text/plain": [
       "3242945.0"
      ]
     },
     "execution_count": 275,
     "metadata": {},
     "output_type": "execute_result"
    },
    {
     "data": {
      "image/png": "[encoded data removed]",
      "text/plain": [
       "<Figure size 432x288 with 1 Axes>"
      ]
     },
     "metadata": {
      "needs_background": "light"
     },
     "output_type": "display_data"
    }
   ],
   "source": [
    "RED = plt.hist(bgr_planes[2].ravel(),256,[0,256]) \n",
    "len(RED)\n",
    "max(RED[0])"
   ]
  },
  {
   "cell_type": "code",
   "execution_count": 276,
   "metadata": {},
   "outputs": [],
   "source": [
    "# Finding image mean\n",
    "# image_mean1 = sum(count_R.*binslocation_R)/sum(count_R);\n",
    "\n",
    "# image_mean = sum(RED[0]*RED[1])/sum(RED[0])"
   ]
  },
  {
   "cell_type": "code",
   "execution_count": null,
   "metadata": {},
   "outputs": [],
   "source": []
  },
  {
   "cell_type": "code",
   "execution_count": 277,
   "metadata": {},
   "outputs": [
    {
     "data": {
      "image/png": "[encoded data removed]",
      "text/plain": [
       "<Figure size 432x288 with 1 Axes>"
      ]
     },
     "metadata": {
      "needs_background": "light"
     },
     "output_type": "display_data"
    }
   ],
   "source": [
    "plt.title(\"GREEN Hist\")\n",
    "plt.hist(bgr_planes[1].ravel(),256,[0,256]) \n",
    "plt.show()\n"
   ]
  },
  {
   "cell_type": "code",
   "execution_count": 278,
   "metadata": {},
   "outputs": [
    {
     "data": {
      "image/png": "[encoded data removed]",
      "text/plain": [
       "<Figure size 432x288 with 1 Axes>"
      ]
     },
     "metadata": {
      "needs_background": "light"
     },
     "output_type": "display_data"
    }
   ],
   "source": [
    "plt.title(\"BLUE Hist\")\n",
    "plt.hist(bgr_planes[0].ravel(),256,[0,256]) \n",
    "plt.show()\n"
   ]
  },
  {
   "cell_type": "markdown",
   "metadata": {},
   "source": [
    "Finding MAX vale in R,G,B"
   ]
  },
  {
   "cell_type": "code",
   "execution_count": 279,
   "metadata": {},
   "outputs": [
    {
     "name": "stdout",
     "output_type": "stream",
     "text": [
      "(2268,)\n",
      "(4032, 2268)\n"
     ]
    }
   ],
   "source": [
    "bgr_planes[2][0]\n",
    "print(bgr_planes[2][0].shape)\n",
    "print(bgr_planes[2].shape)"
   ]
  },
  {
   "cell_type": "code",
   "execution_count": 280,
   "metadata": {},
   "outputs": [
    {
     "data": {
      "text/plain": [
       "array([[255, 254, 253, ..., 228, 226, 223],\n",
       "       [255, 254, 254, ..., 230, 232, 233],\n",
       "       [255, 255, 255, ..., 222, 219, 219],\n",
       "       ...,\n",
       "       [255, 255, 255, ..., 229, 231, 232],\n",
       "       [254, 255, 255, ..., 229, 231, 231],\n",
       "       [252, 255, 255, ..., 228, 230, 229]], dtype=uint8)"
      ]
     },
     "execution_count": 280,
     "metadata": {},
     "output_type": "execute_result"
    }
   ],
   "source": [
    "bgr_planes[2]"
   ]
  },
  {
   "cell_type": "code",
   "execution_count": 281,
   "metadata": {},
   "outputs": [
    {
     "name": "stdout",
     "output_type": "stream",
     "text": [
      "BLUE index 50 value : 226364.0\n"
     ]
    },
    {
     "data": {
      "image/png": "[encoded data removed]",
      "text/plain": [
       "<Figure size 432x288 with 1 Axes>"
      ]
     },
     "metadata": {
      "needs_background": "light"
     },
     "output_type": "display_data"
    }
   ],
   "source": [
    "#BLUE BLUE[50] -> y value\n",
    "BLUE = plt.hist(bgr_planes[0].ravel(),256,[0,256]) \n",
    "len(BLUE)\n",
    "# max(BLUE[0])\n",
    "print(\"BLUE index 50 value : {}\".format(BLUE[0][50]))"
   ]
  },
  {
   "cell_type": "code",
   "execution_count": 282,
   "metadata": {},
   "outputs": [
    {
     "name": "stdout",
     "output_type": "stream",
     "text": [
      "SPO2 : 93.4752424762395\n"
     ]
    }
   ],
   "source": [
    "\n",
    "\n",
    "\n",
    "\n",
    "#  RED/RED + BLUE\n",
    "img_m = max(RED[0])/(max(RED[0])+BLUE[0][50])\n",
    "print(\"SPO2 : {}\".format(img_m*100))"
   ]
  },
  {
   "cell_type": "code",
   "execution_count": 283,
   "metadata": {},
   "outputs": [
    {
     "name": "stdout",
     "output_type": "stream",
     "text": [
      "35721.0\n"
     ]
    }
   ],
   "source": [
    "RED_avg = sum(RED[0])/len(RED[0])\n",
    "print(sum(RED[0])/len(RED[0]))"
   ]
  },
  {
   "cell_type": "code",
   "execution_count": 284,
   "metadata": {},
   "outputs": [],
   "source": [
    "BLUE_avg = sum(BLUE[0])/len(BLUE[0])"
   ]
  },
  {
   "cell_type": "code",
   "execution_count": 285,
   "metadata": {},
   "outputs": [
    {
     "name": "stdout",
     "output_type": "stream",
     "text": [
      "SPO2 average : 50.0\n"
     ]
    }
   ],
   "source": [
    "img_mm = RED_avg/(RED_avg+BLUE_avg)\n",
    "print(\"SPO2 average : {}\".format(img_mm*100))"
   ]
  }
 ],
 "metadata": {
  "kernelspec": {
   "display_name": "Python 3",
   "language": "python",
   "name": "python3"
  },
  "language_info": {
   "codemirror_mode": {
    "name": "ipython",
    "version": 3
   },
   "file_extension": ".py",
   "mimetype": "text/x-python",
   "name": "python",
   "nbconvert_exporter": "python",
   "pygments_lexer": "ipython3",
   "version": "3.8.2"
  }
 },
 "nbformat": 4,
 "nbformat_minor": 4
}
