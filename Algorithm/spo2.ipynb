{
 "cells": [
  {
   "cell_type": "markdown",
   "metadata": {},
   "source": [
    "SP02 Project"
   ]
  },
  {
   "cell_type": "markdown",
   "metadata": {},
   "source": [
    "1. Reading image"
   ]
  },
  {
   "cell_type": "code",
   "execution_count": 21,
   "metadata": {},
   "outputs": [],
   "source": [
    "import cv2 as cv\n",
    "import numpy as np"
   ]
  },
  {
   "cell_type": "code",
   "execution_count": 12,
   "metadata": {},
   "outputs": [],
   "source": [
    "data_pic = cv.imread(\"./imp.jpg\")\n",
    "dis_pic(data_pic)"
   ]
  },
  {
   "cell_type": "code",
   "execution_count": 7,
   "metadata": {},
   "outputs": [],
   "source": [
    "# cv.imshow('image',data_pic)\n",
    "# cv.waitKey(0)\n",
    "# cv.destroyAllWindows()"
   ]
  },
  {
   "cell_type": "code",
   "execution_count": 10,
   "metadata": {},
   "outputs": [],
   "source": [
    "def dis_pic(pic_name):\n",
    "    cv.imshow('image',pic_name)\n",
    "    cv.waitKey(0)\n",
    "    cv.destroyAllWindows()\n",
    "    "
   ]
  },
  {
   "cell_type": "markdown",
   "metadata": {},
   "source": [
    "2. Reading dimentions"
   ]
  },
  {
   "cell_type": "code",
   "execution_count": 33,
   "metadata": {},
   "outputs": [],
   "source": [
    "data_pic_red = data_pic[:,:,1]\n",
    "# dis_pic(data_pic_red)\n",
    "filtered_pic = max_rgb_filter(data_pic)\n",
    "# cv.imshow(\"Images\", np.hstack([data_pic, f]))\n",
    "# cv.waitKey(0)"
   ]
  },
  {
   "cell_type": "code",
   "execution_count": 25,
   "metadata": {},
   "outputs": [],
   "source": [
    "def max_rgb_filter(image):\n",
    "    (B, G, R) = cv.split(image)\n",
    "    M = np.maximum(np.maximum(R, G), B)\n",
    "    R[R < M] = 0\n",
    "    G[G < M] = 0\n",
    "    B[B < M] = 0\n",
    "\n",
    "    return cv.merge([B, G, R])"
   ]
  },
  {
   "cell_type": "code",
   "execution_count": 34,
   "metadata": {},
   "outputs": [
    {
     "data": {
      "image/png": "[encoded data removed]",
      "text/plain": [
       "<Figure size 432x288 with 1 Axes>"
      ]
     },
     "metadata": {
      "needs_background": "light"
     },
     "output_type": "display_data"
    }
   ],
   "source": [
    "import matplotlib.pyplot as plt\n",
    "plt.hist(filtered_pic.ravel(),256,[0,256]); plt.show()"
   ]
  },
  {
   "cell_type": "code",
   "execution_count": 39,
   "metadata": {},
   "outputs": [
    {
     "name": "stdout",
     "output_type": "stream",
     "text": [
      "[array([[53, 53, 52, ..., 56, 60, 60],\n",
      "       [53, 52, 52, ..., 56, 58, 60],\n",
      "       [52, 50, 49, ..., 55, 59, 59],\n",
      "       ...,\n",
      "       [64, 63, 62, ..., 48, 50, 50],\n",
      "       [63, 63, 62, ..., 50, 51, 51],\n",
      "       [62, 64, 64, ..., 50, 53, 53]], dtype=uint8), array([[ 0,  0,  0, ..., 11, 12, 14],\n",
      "       [ 0,  0,  0, ...,  9, 12, 12],\n",
      "       [ 0,  0,  0, ...,  8, 10, 11],\n",
      "       ...,\n",
      "       [ 0,  0,  0, ...,  0,  0,  0],\n",
      "       [ 0,  0,  0, ...,  0,  0,  0],\n",
      "       [ 0,  0,  0, ...,  0,  0,  0]], dtype=uint8), array([[248, 248, 248, ..., 222, 218, 215],\n",
      "       [248, 248, 248, ..., 225, 219, 218],\n",
      "       [250, 250, 249, ..., 230, 226, 223],\n",
      "       ...,\n",
      "       [254, 253, 252, ..., 246, 246, 246],\n",
      "       [252, 252, 252, ..., 246, 245, 245],\n",
      "       [251, 253, 254, ..., 246, 245, 245]], dtype=uint8)]\n"
     ]
    }
   ],
   "source": [
    "bgr_planes = cv.split(data_pic)\n",
    "print(bgr_planes)"
   ]
  },
  {
   "cell_type": "code",
   "execution_count": 51,
   "metadata": {},
   "outputs": [
    {
     "data": {
      "text/plain": [
       "[3]"
      ]
     },
     "execution_count": 51,
     "metadata": {},
     "output_type": "execute_result"
    }
   ],
   "source": [
    "def dim(bgr_planes):\n",
    "    if not type(bgr_planes) == list:\n",
    "        return []\n",
    "    return [len(bgr_planes)] + dim(bgr_planes[0])\n",
    "dim(bgr_planes)"
   ]
  },
  {
   "cell_type": "code",
   "execution_count": 55,
   "metadata": {},
   "outputs": [
    {
     "data": {
      "text/plain": [
       "array([[53, 53, 52, ..., 56, 60, 60],\n",
       "       [53, 52, 52, ..., 56, 58, 60],\n",
       "       [52, 50, 49, ..., 55, 59, 59],\n",
       "       ...,\n",
       "       [64, 63, 62, ..., 48, 50, 50],\n",
       "       [63, 63, 62, ..., 50, 51, 51],\n",
       "       [62, 64, 64, ..., 50, 53, 53]], dtype=uint8)"
      ]
     },
     "execution_count": 55,
     "metadata": {},
     "output_type": "execute_result"
    }
   ],
   "source": [
    "bgr_planes[0]"
   ]
  },
  {
   "cell_type": "code",
   "execution_count": 58,
   "metadata": {},
   "outputs": [
    {
     "data": {
      "image/png": "[encoded data removed]",
      "text/plain": [
       "<Figure size 432x288 with 1 Axes>"
      ]
     },
     "metadata": {
      "needs_background": "light"
     },
     "output_type": "display_data"
    }
   ],
   "source": [
    "plt.title(\"RED Hist\")\n",
    "plt.hist(bgr_planes[2].ravel(),256,[0,256]) \n",
    "plt.show()\n"
   ]
  },
  {
   "cell_type": "code",
   "execution_count": 59,
   "metadata": {},
   "outputs": [
    {
     "data": {
      "image/png": "[encoded data removed]",
      "text/plain": [
       "<Figure size 432x288 with 1 Axes>"
      ]
     },
     "metadata": {
      "needs_background": "light"
     },
     "output_type": "display_data"
    }
   ],
   "source": [
    "plt.title(\"GREEN Hist\")\n",
    "plt.hist(bgr_planes[1].ravel(),256,[0,256]) \n",
    "plt.show()\n"
   ]
  },
  {
   "cell_type": "code",
   "execution_count": 60,
   "metadata": {},
   "outputs": [
    {
     "data": {
      "image/png": "[encoded data removed]",
      "text/plain": [
       "<Figure size 432x288 with 1 Axes>"
      ]
     },
     "metadata": {
      "needs_background": "light"
     },
     "output_type": "display_data"
    }
   ],
   "source": [
    "plt.title(\"BLUE Hist\")\n",
    "plt.hist(bgr_planes[].ravel(),256,[0,256]) \n",
    "plt.show()\n"
   ]
  }
 ],
 "metadata": {
  "kernelspec": {
   "display_name": "Python 3",
   "language": "python",
   "name": "python3"
  },
  "language_info": {
   "codemirror_mode": {
    "name": "ipython",
    "version": 3
   },
   "file_extension": ".py",
   "mimetype": "text/x-python",
   "name": "python",
   "nbconvert_exporter": "python",
   "pygments_lexer": "ipython3",
   "version": "3.8.2"
  }
 },
 "nbformat": 4,
 "nbformat_minor": 4
}
