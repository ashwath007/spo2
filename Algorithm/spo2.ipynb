{
 "cells": [
  {
   "cell_type": "markdown",
   "metadata": {},
   "source": [
    "SP02 Project"
   ]
  },
  {
   "cell_type": "markdown",
   "metadata": {},
   "source": [
    "1. Reading image"
   ]
  },
  {
   "cell_type": "code",
   "execution_count": 220,
   "metadata": {},
   "outputs": [],
   "source": [
    "import cv2 as cv\n",
    "import numpy as np"
   ]
  },
  {
   "cell_type": "code",
   "execution_count": null,
   "metadata": {},
   "outputs": [],
   "source": [
    "data_pic = cv.imread(\"./DATA/vp.jpg\")\n",
    "dis_pic(data_pic)"
   ]
  },
  {
   "cell_type": "code",
   "execution_count": null,
   "metadata": {},
   "outputs": [],
   "source": [
    "# cv.imshow('image',data_pic)\n",
    "# cv.waitKey(0)\n",
    "# cv.destroyAllWindows()"
   ]
  },
  {
   "cell_type": "code",
   "execution_count": null,
   "metadata": {},
   "outputs": [],
   "source": [
    "def dis_pic(pic_name):\n",
    "    cv.imshow('image',pic_name)\n",
    "    cv.waitKey(0)\n",
    "    cv.destroyAllWindows()\n",
    "    "
   ]
  },
  {
   "cell_type": "markdown",
   "metadata": {},
   "source": [
    "2. Reading dimentions"
   ]
  },
  {
   "cell_type": "code",
   "execution_count": null,
   "metadata": {},
   "outputs": [],
   "source": [
    "data_pic_red = data_pic[:,:,1]\n",
    "# dis_pic(data_pic_red)\n",
    "filtered_pic = max_rgb_filter(data_pic)\n",
    "# cv.imshow(\"Images\", np.hstack([data_pic, f]))\n",
    "# cv.waitKey(0)"
   ]
  },
  {
   "cell_type": "code",
   "execution_count": null,
   "metadata": {},
   "outputs": [],
   "source": [
    "def max_rgb_filter(image):\n",
    "    (B, G, R) = cv.split(image)\n",
    "    M = np.maximum(np.maximum(R, G), B)\n",
    "    R[R < M] = 0\n",
    "    G[G < M] = 0\n",
    "    B[B < M] = 0\n",
    "\n",
    "    return cv.merge([B, G, R])"
   ]
  },
  {
   "cell_type": "code",
   "execution_count": null,
   "metadata": {},
   "outputs": [],
   "source": [
    "import matplotlib.pyplot as plt\n",
    "plt.hist(filtered_pic.ravel(),256,[0,256]); plt.show()"
   ]
  },
  {
   "cell_type": "code",
   "execution_count": null,
   "metadata": {},
   "outputs": [],
   "source": [
    "bgr_planes = cv.split(data_pic)\n",
    "print(bgr_planes)"
   ]
  },
  {
   "cell_type": "code",
   "execution_count": null,
   "metadata": {},
   "outputs": [],
   "source": [
    "def dim(bgr_planes):\n",
    "    if not type(bgr_planes) == list:\n",
    "        return []\n",
    "    return [len(bgr_planes)] + dim(bgr_planes[0])\n",
    "dim(bgr_planes)"
   ]
  },
  {
   "cell_type": "code",
   "execution_count": null,
   "metadata": {},
   "outputs": [],
   "source": [
    "bgr_planes[0]"
   ]
  },
  {
   "cell_type": "code",
   "execution_count": null,
   "metadata": {},
   "outputs": [],
   "source": [
    "plt.title(\"RED Hist\")\n",
    "plt.hist(bgr_planes[2].ravel(),256,[0,256]) \n",
    "plt.show()\n"
   ]
  },
  {
   "cell_type": "code",
   "execution_count": null,
   "metadata": {},
   "outputs": [],
   "source": [
    "RED = plt.hist(bgr_planes[2].ravel(),256,[0,256]) \n",
    "len(RED)\n",
    "max(RED[0])"
   ]
  },
  {
   "cell_type": "code",
   "execution_count": null,
   "metadata": {},
   "outputs": [],
   "source": [
    "# Finding image mean\n",
    "# image_mean1 = sum(count_R.*binslocation_R)/sum(count_R);\n",
    "\n",
    "# image_mean = sum(RED[0]*RED[1])/sum(RED[0])"
   ]
  },
  {
   "cell_type": "code",
   "execution_count": null,
   "metadata": {},
   "outputs": [],
   "source": []
  },
  {
   "cell_type": "code",
   "execution_count": null,
   "metadata": {},
   "outputs": [],
   "source": [
    "plt.title(\"GREEN Hist\")\n",
    "plt.hist(bgr_planes[1].ravel(),256,[0,256]) \n",
    "plt.show()\n"
   ]
  },
  {
   "cell_type": "code",
   "execution_count": null,
   "metadata": {},
   "outputs": [],
   "source": [
    "plt.title(\"BLUE Hist\")\n",
    "plt.hist(bgr_planes[0].ravel(),256,[0,256]) \n",
    "plt.show()\n"
   ]
  },
  {
   "cell_type": "markdown",
   "metadata": {},
   "source": [
    "Finding MAX vale in R,G,B"
   ]
  },
  {
   "cell_type": "code",
   "execution_count": null,
   "metadata": {},
   "outputs": [],
   "source": [
    "bgr_planes[2][0]\n",
    "print(bgr_planes[2][0].shape)\n",
    "print(bgr_planes[2].shape)"
   ]
  },
  {
   "cell_type": "code",
   "execution_count": null,
   "metadata": {},
   "outputs": [],
   "source": [
    "bgr_planes[2]"
   ]
  },
  {
   "cell_type": "code",
   "execution_count": null,
   "metadata": {},
   "outputs": [],
   "source": [
    "#BLUE BLUE[50] -> y value\n",
    "BLUE = plt.hist(bgr_planes[0].ravel(),256,[0,256]) \n",
    "len(BLUE)\n",
    "# max(BLUE[0])\n",
    "print(\"BLUE index 50 value : {}\".format(BLUE[0][50]))"
   ]
  },
  {
   "cell_type": "code",
   "execution_count": null,
   "metadata": {},
   "outputs": [],
   "source": [
    "\n",
    "\n",
    "\n",
    "\n",
    "#  RED/RED + BLUE\n",
    "img_m = max(RED[0])/(max(RED[0])+BLUE[0][50])\n",
    "print(\"SPO2 : {}\".format(img_m*100))"
   ]
  },
  {
   "cell_type": "code",
   "execution_count": null,
   "metadata": {},
   "outputs": [],
   "source": [
    "RED_avg = sum(RED[0])/len(RED[0])\n",
    "print(sum(RED[0])/len(RED[0]))"
   ]
  },
  {
   "cell_type": "code",
   "execution_count": null,
   "metadata": {},
   "outputs": [],
   "source": [
    "BLUE_avg = sum(BLUE[0])/len(BLUE[0])"
   ]
  },
  {
   "cell_type": "code",
   "execution_count": null,
   "metadata": {},
   "outputs": [],
   "source": [
    "img_mm = RED_avg/(RED_avg+BLUE_avg)\n",
    "print(\"SPO2 average : {}\".format(img_mm*100))"
   ]
  }
 ],
 "metadata": {
  "kernelspec": {
   "display_name": "Python 3",
   "language": "python",
   "name": "python3"
  },
  "language_info": {
   "codemirror_mode": {
    "name": "ipython",
    "version": 3
   },
   "file_extension": ".py",
   "mimetype": "text/x-python",
   "name": "python",
   "nbconvert_exporter": "python",
   "pygments_lexer": "ipython3",
   "version": "3.8.2"
  }
 },
 "nbformat": 4,
 "nbformat_minor": 4
}
